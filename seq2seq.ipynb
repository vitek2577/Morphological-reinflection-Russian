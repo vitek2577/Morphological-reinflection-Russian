{
 "cells": [
  {
   "cell_type": "code",
   "execution_count": 1,
   "metadata": {},
   "outputs": [],
   "source": [
    "import pandas as pd\n",
    "import numpy as np\n",
    "from sklearn.model_selection import train_test_split\n",
    "import matplotlib.pyplot as plt\n",
    "import time\n",
    "from tqdm import tqdm\n",
    "from tqdm import trange\n",
    "%matplotlib inline\n",
    "\n",
    "import torch\n",
    "import torch.nn as nn\n",
    "from torch import optim\n",
    "import torch.nn.functional as F\n",
    "from torch.utils.data import Dataset, DataLoader\n",
    "from IPython.display import clear_output\n",
    "\n",
    "device = torch.device(\"cuda\" if torch.cuda.is_available() else \"cpu\")\n",
    "device = torch.device(\"cpu\")"
   ]
  },
  {
   "cell_type": "code",
   "execution_count": 2,
   "metadata": {},
   "outputs": [],
   "source": [
    "start_token = \"_\"\n",
    "eos = '#'\n",
    "MAX_LENGTH = 30"
   ]
  },
  {
   "cell_type": "code",
   "execution_count": 3,
   "metadata": {},
   "outputs": [
    {
     "name": "stderr",
     "output_type": "stream",
     "text": [
      "/Users/viktor/anaconda3/lib/python3.6/site-packages/numpy/lib/arraysetops.py:472: FutureWarning: elementwise comparison failed; returning scalar instead, but in the future will perform elementwise comparison\n",
      "  mask |= (ar1 == a)\n"
     ]
    },
    {
     "data": {
      "text/html": [
       "<div>\n",
       "<style scoped>\n",
       "    .dataframe tbody tr th:only-of-type {\n",
       "        vertical-align: middle;\n",
       "    }\n",
       "\n",
       "    .dataframe tbody tr th {\n",
       "        vertical-align: top;\n",
       "    }\n",
       "\n",
       "    .dataframe thead th {\n",
       "        text-align: right;\n",
       "    }\n",
       "</style>\n",
       "<table border=\"1\" class=\"dataframe\">\n",
       "  <thead>\n",
       "    <tr style=\"text-align: right;\">\n",
       "      <th></th>\n",
       "      <th>lex_id</th>\n",
       "      <th>word_norm</th>\n",
       "      <th>word_form</th>\n",
       "      <th>morph_features_form</th>\n",
       "      <th>morph_features_norm</th>\n",
       "    </tr>\n",
       "  </thead>\n",
       "  <tbody>\n",
       "    <tr>\n",
       "      <th>0</th>\n",
       "      <td>1</td>\n",
       "      <td>_ёж#</td>\n",
       "      <td>_ежа#</td>\n",
       "      <td>NOUN,anim,masc sing,gent</td>\n",
       "      <td>NOUN,anim,masc sing,nomn</td>\n",
       "    </tr>\n",
       "    <tr>\n",
       "      <th>1</th>\n",
       "      <td>1</td>\n",
       "      <td>_ёж#</td>\n",
       "      <td>_ежу#</td>\n",
       "      <td>NOUN,anim,masc sing,datv</td>\n",
       "      <td>NOUN,anim,masc sing,nomn</td>\n",
       "    </tr>\n",
       "    <tr>\n",
       "      <th>2</th>\n",
       "      <td>1</td>\n",
       "      <td>_ёж#</td>\n",
       "      <td>_ежа#</td>\n",
       "      <td>NOUN,anim,masc sing,accs</td>\n",
       "      <td>NOUN,anim,masc sing,nomn</td>\n",
       "    </tr>\n",
       "    <tr>\n",
       "      <th>3</th>\n",
       "      <td>1</td>\n",
       "      <td>_ёж#</td>\n",
       "      <td>_ежом#</td>\n",
       "      <td>NOUN,anim,masc sing,ablt</td>\n",
       "      <td>NOUN,anim,masc sing,nomn</td>\n",
       "    </tr>\n",
       "    <tr>\n",
       "      <th>4</th>\n",
       "      <td>1</td>\n",
       "      <td>_ёж#</td>\n",
       "      <td>_еже#</td>\n",
       "      <td>NOUN,anim,masc sing,loct</td>\n",
       "      <td>NOUN,anim,masc sing,nomn</td>\n",
       "    </tr>\n",
       "  </tbody>\n",
       "</table>\n",
       "</div>"
      ],
      "text/plain": [
       "   lex_id word_norm word_form       morph_features_form  \\\n",
       "0       1      _ёж#     _ежа#  NOUN,anim,masc sing,gent   \n",
       "1       1      _ёж#     _ежу#  NOUN,anim,masc sing,datv   \n",
       "2       1      _ёж#     _ежа#  NOUN,anim,masc sing,accs   \n",
       "3       1      _ёж#    _ежом#  NOUN,anim,masc sing,ablt   \n",
       "4       1      _ёж#     _еже#  NOUN,anim,masc sing,loct   \n",
       "\n",
       "        morph_features_norm  \n",
       "0  NOUN,anim,masc sing,nomn  \n",
       "1  NOUN,anim,masc sing,nomn  \n",
       "2  NOUN,anim,masc sing,nomn  \n",
       "3  NOUN,anim,masc sing,nomn  \n",
       "4  NOUN,anim,masc sing,nomn  "
      ]
     },
     "execution_count": 3,
     "metadata": {},
     "output_type": "execute_result"
    }
   ],
   "source": [
    "data_pairs = pd.read_csv(\"base_pairs.csv\", index_col=0)\n",
    "data_pairs.loc[:,\"word_form\"] = data_pairs.word_form.apply(lambda x: start_token + x + eos)\n",
    "data_pairs.loc[:,\"word_norm\"] = data_pairs.word_norm.apply(lambda x: start_token + x + eos)\n",
    "data_pairs.head()"
   ]
  },
  {
   "cell_type": "code",
   "execution_count": 4,
   "metadata": {},
   "outputs": [
    {
     "name": "stdout",
     "output_type": "stream",
     "text": [
      "There are {} tokens 48\n",
      "Vocabular: 9'2шж’ъиёещбчл5нгср4аыьяу8_птвйюхо6-фм17#кэзц03д\n"
     ]
    }
   ],
   "source": [
    "# добавить SOS токен\n",
    "\n",
    "s = \"\".join(data_pairs.word_form)\n",
    "tokens = np.array(list(set(s)))\n",
    "    \n",
    "tok2id = dict(zip(tokens, np.arange(tokens.shape[0])))\n",
    "id2tok = dict(zip(np.arange(tokens.shape[0]), tokens))\n",
    "\n",
    "print ('There are {} tokens',len(tokens))\n",
    "\n",
    "print('Vocabular: ' + \"\".join(tokens))"
   ]
  },
  {
   "cell_type": "code",
   "execution_count": 5,
   "metadata": {},
   "outputs": [],
   "source": [
    "SOS_token = tok2id[start_token]\n",
    "EOS_token = tok2id[eos]"
   ]
  },
  {
   "cell_type": "code",
   "execution_count": 6,
   "metadata": {},
   "outputs": [],
   "source": [
    "def to_matrix(words, max_len=None, pad=tok2id[eos], dtype=np.int64):\n",
    "    \"\"\"Casts a list of words into rnn-digestable matrix\"\"\"\n",
    "    \n",
    "    max_len = max_len or max(map(len, words))\n",
    "    words_ix = np.zeros([len(words), max_len], dtype) + pad\n",
    "\n",
    "    for i in range(len(words)):\n",
    "        word_ix = list(map(tok2id.get, words[i]))\n",
    "        words_ix[i, :len(word_ix)] = word_ix\n",
    "\n",
    "    return words_ix"
   ]
  },
  {
   "cell_type": "code",
   "execution_count": 7,
   "metadata": {},
   "outputs": [
    {
     "name": "stdout",
     "output_type": "stream",
     "text": [
      "_ежа#\n",
      "_ежу#\n",
      "_ежа#\n",
      "_ежом#\n",
      "_еже#\n",
      "_ежи#\n",
      "_ежей#\n",
      "_ежам#\n",
      "_ежей#\n",
      "_ежами#\n",
      "[[26  9  4 20 40 40 40]\n",
      " [26  9  4 24 40 40 40]\n",
      " [26  9  4 20 40 40 40]\n",
      " [26  9  4 33 37 40 40]\n",
      " [26  9  4  9 40 40 40]\n",
      " [26  9  4  7 40 40 40]\n",
      " [26  9  4  9 30 40 40]\n",
      " [26  9  4 20 37 40 40]\n",
      " [26  9  4  9 30 40 40]\n",
      " [26  9  4 20 37  7 40]]\n"
     ]
    }
   ],
   "source": [
    "print('\\n'.join(data_pairs.word_form[:10]))\n",
    "print(to_matrix(data_pairs.word_form[:10]))"
   ]
  },
  {
   "cell_type": "code",
   "execution_count": 8,
   "metadata": {},
   "outputs": [],
   "source": [
    "# Creating training and validation sets using an 80-20 split\n",
    "\n",
    "input_train, input_test, target_train, target_test = train_test_split(data_pairs.word_norm.values, data_pairs.word_form.values, test_size=0.2)"
   ]
  },
  {
   "cell_type": "code",
   "execution_count": 9,
   "metadata": {},
   "outputs": [],
   "source": [
    "class pairs_Dataset(Dataset):\n",
    "    def __init__(self, data, data_form):\n",
    "        self.data = data\n",
    "        self.target = data_form\n",
    "    def __len__(self):\n",
    "        'Denotes the total number of samples'\n",
    "        return len(self.data)\n",
    "\n",
    "    def __getitem__(self, index):\n",
    "        'Generates one sample of data'\n",
    "        # Select sample\n",
    "        return self.data[index], self.target[index]"
   ]
  },
  {
   "cell_type": "code",
   "execution_count": 10,
   "metadata": {},
   "outputs": [],
   "source": [
    "BATCH_SIZE = 22\n",
    "\n",
    "train_data = pairs_Dataset(input_train, target_train)\n",
    "\n",
    "dataset = DataLoader(train_data, batch_size=BATCH_SIZE, drop_last=True, shuffle=True)"
   ]
  },
  {
   "cell_type": "code",
   "execution_count": 11,
   "metadata": {},
   "outputs": [
    {
     "name": "stdout",
     "output_type": "stream",
     "text": [
      "[[26 42 13  9 37  9 15 28 20 18 15  9 30  3  7 30 40 40 40]\n",
      " [26 42 13  9 41 28 18 33 41 33 29 33 12 15 21 30 40 40 40]\n",
      " [26 27 33 43 20 11 18 33 17  7 29  3  7 30 40 40 40 40 40]\n",
      " [26 29 47  8 18 16  7 29 20 29  3  7 30 40 40 40 40 40 40]\n",
      " [26 41 24 18 33 12  7 29  3  7 30 40 40 40 40 40 40 40 40]\n",
      " [26 41 18 20 17 15 33 11 20 30 17 41  7 30 40 40 40 40 40]\n",
      " [26 27 33 43 15 20 29 20 28  9 13 22 15  9  9 40 40 40 40]\n",
      " [26 17  9 41 44  7 33 15  7 18 33 29 20 15 15 21 30 40 40]\n",
      " [26 27 33 47 29  9 47  9 15  7  9 40 40 40 40 40 40 40 40]\n",
      " [26 29 20 32 18 24  3  9 29 17 41  7 30 40 40 40 40 40 40]\n",
      " [26 18 20 17 27 13  8 29 21 29 20 29  3  7 30 17 23 40 40]\n",
      " [26 27 33 47 15 20 28 24  4  7 29 20 31 10  7 30 17 23 40]\n",
      " [26 20 15 16 13 33 36 33 11 40 40 40 40 40 40 40 40 40 40]\n",
      " [26 43 20 17 28 18  9 13  7 29 20 29  3  7 30 40 40 40 40]\n",
      " [26 33 28 27 24 28 20 29  3  7 30 17 23 40 40 40 40 40 40]\n",
      " [26 15  9 18 33  4 20 29  3  7 30 40 40 40 40 40 40 40 40]\n",
      " [26 27  9 18  9 32  7 28 18  8 15 15 21 30 40 40 40 40 40]\n",
      " [26 24 18 17 24 13  7 15 41 20 40 40 40 40 40 40 40 40 40]\n",
      " [26 27  9 18  9 33 11 24 12 20 29  3  7 30 40 40 40 40 40]\n",
      " [26 17 24 15 17 41  7 30 40 40 40 40 40 40 40 40 40 40 40]\n",
      " [26 32 37  9 13 22 15 21 30 40 40 40 40 40 40 40 40 40 40]\n",
      " [26 43  9 18 15 33 28 24 41 33 29 21 30 40 40 40 40 40 40]]\n"
     ]
    }
   ],
   "source": [
    "for batch in dataset:\n",
    "    print(to_matrix(batch[0]))\n",
    "    break"
   ]
  },
  {
   "cell_type": "code",
   "execution_count": 12,
   "metadata": {},
   "outputs": [],
   "source": [
    "class EncoderRNN(nn.Module):\n",
    "    def __init__(self, input_size, hidden_size):\n",
    "        super(EncoderRNN, self).__init__()\n",
    "        self.hidden_size = hidden_size\n",
    "        self.batch_size = BATCH_SIZE\n",
    "        self.embedding = nn.Embedding(input_size, hidden_size)\n",
    "        self.gru = nn.GRU(hidden_size, hidden_size)\n",
    "\n",
    "    def forward(self, input, hidden):\n",
    "        embedded = self.embedding(input).view(1, self.batch_size, -1)\n",
    "        output = embedded\n",
    "        output, hidden = self.gru(output, hidden)\n",
    "        return output, hidden\n",
    "\n",
    "    def initHidden(self):\n",
    "        return torch.zeros(1, self.batch_size, self.hidden_size, device=device)"
   ]
  },
  {
   "cell_type": "code",
   "execution_count": 13,
   "metadata": {},
   "outputs": [],
   "source": [
    "class AttnDecoderRNN(nn.Module):\n",
    "    def __init__(self, hidden_size, output_size, dropout_p=0.1, max_length=MAX_LENGTH):\n",
    "        super(AttnDecoderRNN, self).__init__()\n",
    "        self.hidden_size = hidden_size\n",
    "        self.output_size = output_size\n",
    "        self.batch_size = BATCH_SIZE\n",
    "        self.dropout_p = dropout_p\n",
    "        self.max_length = max_length\n",
    "\n",
    "        self.embedding = nn.Embedding(self.output_size, self.hidden_size)\n",
    "        self.attn = nn.Linear(self.hidden_size * 2, self.max_length)\n",
    "        self.attn_combine = nn.Linear(self.hidden_size * 2, self.hidden_size)\n",
    "        self.dropout = nn.Dropout(self.dropout_p)\n",
    "        self.gru = nn.GRU(self.hidden_size, self.hidden_size)\n",
    "        self.out = nn.Linear(self.hidden_size, self.output_size)\n",
    "\n",
    "    def forward(self, input, hidden, encoder_outputs):\n",
    "        embedded = self.embedding(input).view(1, self.batch_size, -1)\n",
    "        embedded = self.dropout(embedded)\n",
    "\n",
    "        attn_weights = F.softmax(\n",
    "            self.attn(torch.cat((embedded[0], hidden[0]), 1)), dim=1)\n",
    "        attn_applied = torch.bmm(attn_weights.unsqueeze(1),\n",
    "                                 encoder_outputs)\n",
    "        output = torch.cat((embedded[0], attn_applied.squeeze()), 1)\n",
    "        output = self.attn_combine(output).unsqueeze(0)\n",
    "\n",
    "        output = F.relu(output)\n",
    "        output, hidden = self.gru(output, hidden)\n",
    "\n",
    "        output = F.log_softmax(self.out(output[0]), dim=1)\n",
    "        return output, hidden, attn_weights\n",
    "\n",
    "    def initHidden(self):\n",
    "        return torch.zeros(1, self.batch_size, self.hidden_size, device=device)"
   ]
  },
  {
   "cell_type": "code",
   "execution_count": 14,
   "metadata": {},
   "outputs": [],
   "source": [
    "teacher_forcing_ratio = 0.5\n",
    "\n",
    "def train_batch(X, y, encoder, decoder, encoder_opt, decoder_opt, criterion, max_length=MAX_LENGTH):\n",
    "    encoder_hidden = encoder.initHidden()\n",
    "\n",
    "    encoder_opt.zero_grad()\n",
    "    decoder_opt.zero_grad()\n",
    "    max_length = X.shape[1]\n",
    "    encoder_outputs = torch.zeros(BATCH_SIZE, max_length, encoder.hidden_size, device=device)\n",
    "    loss = 0\n",
    "    for i in range(X.shape[1]):\n",
    "        encoder_output, encoder_hidden = encoder(\n",
    "            X[:, i], encoder_hidden)\n",
    "        encoder_outputs[:, i] = encoder_output[0]\n",
    "\n",
    "    decoder_input = torch.tensor([[int(SOS_token)] * BATCH_SIZE], device=device)\n",
    "\n",
    "    decoder_hidden = encoder_hidden\n",
    "\n",
    "    use_teacher_forcing = True if np.random.random() < teacher_forcing_ratio else False\n",
    "\n",
    "    if use_teacher_forcing:\n",
    "        # Teacher forcing: Feed the target as the next input\n",
    "        for di in range(y.shape[1]):\n",
    "            decoder_output, decoder_hidden, decoder_attention = decoder(\n",
    "                decoder_input, decoder_hidden, encoder_outputs)\n",
    "            loss += criterion(decoder_output, y[:, di])\n",
    "            decoder_input = y[:, di]  # Teacher forcing\n",
    "\n",
    "    else:\n",
    "        # Without teacher forcing: use its own predictions as the next input\n",
    "        for di in range(y.shape[1]):\n",
    "            decoder_output, decoder_hidden, decoder_attention = decoder(\n",
    "                decoder_input, decoder_hidden, encoder_outputs)\n",
    "            topv, topi = decoder_output.topk(1)\n",
    "            decoder_input = topi.squeeze().detach()  # detach from history as input\n",
    "\n",
    "            loss += criterion(decoder_output, y[:, di])\n",
    "#             if decoder_input.item() == EOS_token:\n",
    "#                 break\n",
    "\n",
    "    loss.backward()\n",
    "\n",
    "    encoder_opt.step()\n",
    "    decoder_opt.step()\n",
    "\n",
    "    return loss.item()"
   ]
  },
  {
   "cell_type": "code",
   "execution_count": 15,
   "metadata": {},
   "outputs": [],
   "source": [
    "def plot_history(train_history, title='loss'):\n",
    "    plt.figure()\n",
    "    plt.title('{}'.format(title))\n",
    "    plt.plot(train_history, label='train', zorder=1)    \n",
    "    plt.xlabel('train steps')\n",
    "    plt.grid()\n",
    "    plt.show()\n",
    "    \n",
    "    \n",
    "def train(data, encoder, decoder, n_epochs, print_every=1, plot_every=1, learning_rate=0.01):\n",
    "    start = time.time()\n",
    "    plot_losses = []\n",
    "\n",
    "    encoder_optimizer = optim.SGD(encoder.parameters(), lr=learning_rate)\n",
    "    decoder_optimizer = optim.SGD(decoder.parameters(), lr=learning_rate)\n",
    "    \n",
    "    criterion = nn.NLLLoss()\n",
    "\n",
    "    for epoch in range(n_epochs):\n",
    "        encoder.train()\n",
    "        decoder.train()\n",
    "        loss = 0\n",
    "        for batch_num, batch in zip(trange(len(data)), data):\n",
    "            max_len = max(max(map(len, batch[0])), max(map(len, batch[1])))\n",
    "            X = torch.from_numpy(to_matrix(batch[0], max_len=MAX_LENGTH)).to(device)\n",
    "            y = torch.from_numpy(to_matrix(batch[1], max_len=MAX_LENGTH)).to(device)\n",
    "            loss = train_batch(X, y, encoder,\n",
    "                     decoder, encoder_optimizer, decoder_optimizer, criterion)\n",
    "            plot_losses.append(loss / X.shape[0])\n",
    "            if batch_num == 50:\n",
    "                break\n",
    "        clear_output()\n",
    "        plot_history(plot_losses)"
   ]
  },
  {
   "cell_type": "code",
   "execution_count": 17,
   "metadata": {},
   "outputs": [
    {
     "data": {
      "image/png": "[encoded data removed]",
      "text/plain": [
       "<Figure size 432x288 with 1 Axes>"
      ]
     },
     "metadata": {},
     "output_type": "display_data"
    }
   ],
   "source": [
    "hidden_size = 256\n",
    "encoder1 = EncoderRNN(tokens.shape[0], hidden_size).to(device)\n",
    "attn_decoder1 = AttnDecoderRNN(hidden_size, tokens.shape[0], dropout_p=0.1).to(device)\n",
    "\n",
    "train(dataset, encoder1, attn_decoder1, 1)"
   ]
  },
  {
   "cell_type": "code",
   "execution_count": null,
   "metadata": {},
   "outputs": [],
   "source": []
  }
 ],
 "metadata": {
  "kernelspec": {
   "display_name": "Python 3",
   "language": "python",
   "name": "python3"
  },
  "language_info": {
   "codemirror_mode": {
    "name": "ipython",
    "version": 3
   },
   "file_extension": ".py",
   "mimetype": "text/x-python",
   "name": "python",
   "nbconvert_exporter": "python",
   "pygments_lexer": "ipython3",
   "version": "3.6.7"
  }
 },
 "nbformat": 4,
 "nbformat_minor": 2
}

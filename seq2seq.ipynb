{
 "cells": [
  {
   "cell_type": "code",
   "execution_count": 1,
   "metadata": {},
   "outputs": [],
   "source": [
    "import pandas as pd\n",
    "import numpy as np\n",
    "from sklearn.model_selection import train_test_split\n",
    "import matplotlib.pyplot as plt\n",
    "import time\n",
    "from tqdm import tqdm\n",
    "from tqdm import trange\n",
    "%matplotlib inline\n",
    "\n",
    "import torch\n",
    "import torch.nn as nn\n",
    "from torch import optim\n",
    "import torch.nn.functional as F\n",
    "from torch.utils.data import Dataset, DataLoader\n",
    "from IPython.display import clear_output\n",
    "\n",
    "device = torch.device(\"cuda\" if torch.cuda.is_available() else \"cpu\")\n",
    "device = torch.device(\"cpu\")"
   ]
  },
  {
   "cell_type": "code",
   "execution_count": 2,
   "metadata": {},
   "outputs": [],
   "source": [
    "start_token = \"_\"\n",
    "eos = '#'\n",
    "MAX_LENGTH = 30"
   ]
  },
  {
   "cell_type": "code",
   "execution_count": 3,
   "metadata": {},
   "outputs": [
    {
     "name": "stderr",
     "output_type": "stream",
     "text": [
      "/Users/viktor/anaconda3/lib/python3.6/site-packages/numpy/lib/arraysetops.py:472: FutureWarning: elementwise comparison failed; returning scalar instead, but in the future will perform elementwise comparison\n",
      "  mask |= (ar1 == a)\n"
     ]
    },
    {
     "data": {
      "text/html": [
       "<div>\n",
       "<style scoped>\n",
       "    .dataframe tbody tr th:only-of-type {\n",
       "        vertical-align: middle;\n",
       "    }\n",
       "\n",
       "    .dataframe tbody tr th {\n",
       "        vertical-align: top;\n",
       "    }\n",
       "\n",
       "    .dataframe thead th {\n",
       "        text-align: right;\n",
       "    }\n",
       "</style>\n",
       "<table border=\"1\" class=\"dataframe\">\n",
       "  <thead>\n",
       "    <tr style=\"text-align: right;\">\n",
       "      <th></th>\n",
       "      <th>lex_id</th>\n",
       "      <th>word_norm</th>\n",
       "      <th>word_form</th>\n",
       "      <th>morph_features_form</th>\n",
       "      <th>morph_features_norm</th>\n",
       "    </tr>\n",
       "  </thead>\n",
       "  <tbody>\n",
       "    <tr>\n",
       "      <th>0</th>\n",
       "      <td>1</td>\n",
       "      <td>_ёж#</td>\n",
       "      <td>_ежа#</td>\n",
       "      <td>NOUN,anim,masc sing,gent</td>\n",
       "      <td>NOUN,anim,masc sing,nomn</td>\n",
       "    </tr>\n",
       "    <tr>\n",
       "      <th>1</th>\n",
       "      <td>1</td>\n",
       "      <td>_ёж#</td>\n",
       "      <td>_ежу#</td>\n",
       "      <td>NOUN,anim,masc sing,datv</td>\n",
       "      <td>NOUN,anim,masc sing,nomn</td>\n",
       "    </tr>\n",
       "    <tr>\n",
       "      <th>2</th>\n",
       "      <td>1</td>\n",
       "      <td>_ёж#</td>\n",
       "      <td>_ежа#</td>\n",
       "      <td>NOUN,anim,masc sing,accs</td>\n",
       "      <td>NOUN,anim,masc sing,nomn</td>\n",
       "    </tr>\n",
       "    <tr>\n",
       "      <th>3</th>\n",
       "      <td>1</td>\n",
       "      <td>_ёж#</td>\n",
       "      <td>_ежом#</td>\n",
       "      <td>NOUN,anim,masc sing,ablt</td>\n",
       "      <td>NOUN,anim,masc sing,nomn</td>\n",
       "    </tr>\n",
       "    <tr>\n",
       "      <th>4</th>\n",
       "      <td>1</td>\n",
       "      <td>_ёж#</td>\n",
       "      <td>_еже#</td>\n",
       "      <td>NOUN,anim,masc sing,loct</td>\n",
       "      <td>NOUN,anim,masc sing,nomn</td>\n",
       "    </tr>\n",
       "  </tbody>\n",
       "</table>\n",
       "</div>"
      ],
      "text/plain": [
       "   lex_id word_norm word_form       morph_features_form  \\\n",
       "0       1      _ёж#     _ежа#  NOUN,anim,masc sing,gent   \n",
       "1       1      _ёж#     _ежу#  NOUN,anim,masc sing,datv   \n",
       "2       1      _ёж#     _ежа#  NOUN,anim,masc sing,accs   \n",
       "3       1      _ёж#    _ежом#  NOUN,anim,masc sing,ablt   \n",
       "4       1      _ёж#     _еже#  NOUN,anim,masc sing,loct   \n",
       "\n",
       "        morph_features_norm  \n",
       "0  NOUN,anim,masc sing,nomn  \n",
       "1  NOUN,anim,masc sing,nomn  \n",
       "2  NOUN,anim,masc sing,nomn  \n",
       "3  NOUN,anim,masc sing,nomn  \n",
       "4  NOUN,anim,masc sing,nomn  "
      ]
     },
     "execution_count": 3,
     "metadata": {},
     "output_type": "execute_result"
    }
   ],
   "source": [
    "data_pairs = pd.read_csv(\"base_pairs.csv\", index_col=0)\n",
    "data_pairs.loc[:,\"word_form\"] = data_pairs.word_form.apply(lambda x: start_token + x + eos)\n",
    "data_pairs.loc[:,\"word_norm\"] = data_pairs.word_norm.apply(lambda x: start_token + x + eos)\n",
    "data_pairs.head()"
   ]
  },
  {
   "cell_type": "code",
   "execution_count": 4,
   "metadata": {},
   "outputs": [
    {
     "name": "stdout",
     "output_type": "stream",
     "text": [
      "There are {} tokens 48\n",
      "Vocabular: 9'2шж’ъиёещбчл5нгср4аыьяу8_птвйюхо6-фм17#кэзц03д\n"
     ]
    }
   ],
   "source": [
    "\n",
    "s = \"\".join(data_pairs.word_form)\n",
    "tokens = np.array(list(set(s)))\n",
    "    \n",
    "tok2id = dict(zip(tokens, np.arange(tokens.shape[0])))\n",
    "id2tok = dict(zip(np.arange(tokens.shape[0]), tokens))\n",
    "\n",
    "print ('There are {} tokens',len(tokens))\n",
    "\n",
    "print('Vocabular: ' + \"\".join(tokens))"
   ]
  },
  {
   "cell_type": "code",
   "execution_count": 120,
   "metadata": {},
   "outputs": [
    {
     "name": "stdout",
     "output_type": "stream",
     "text": [
      "There are {} tokens 100\n",
      "Vocabular: AnphFixdAproQuesGRND1perV-beMs-fNUMRimpfFimpfemnNOUNintrGNdrHypoDistdatvPREPSurnabltSuprV-iegen23perADJFADJSloc2LitraccsplurNPROGeoxgentVprePRTSCounVERBpssvanimPatrloctactvV-ejINFNAnumAdjxsingOrgnmascCmp2CONJSgtmErroV-oyinclINTJAf-ploc1PrdxPREDNamePltmQualInmxImpepresgen1neutV-enImpxInitADVBV-shInfrtranms-fDmnsV-eyAbbrCOMPvoctArchfutrV-biexclSlngperfindc2perPRCLCollpastnomnPossPrntimprSubxPRTFinan\n"
     ]
    }
   ],
   "source": [
    "import re\n",
    "s_f = np.hstack(data_pairs.morph_features_form.apply(lambda x: re.split(\",| \", x)).values)\n",
    "tokens_f = np.array(list(set(s_f)))\n",
    "    \n",
    "tok2id_f = dict(zip(tokens_f, np.arange(tokens_f.shape[0])))\n",
    "# id2tok_f = dict(zip(np.arange(tokens.shape[0]), tokens))\n",
    "\n",
    "print ('There are {} tokens',len(tokens_f))\n",
    "\n",
    "print('Vocabular: ' + \"\".join(tokens_f))"
   ]
  },
  {
   "cell_type": "code",
   "execution_count": 247,
   "metadata": {},
   "outputs": [],
   "source": [
    "a = data_pairs.morph_features_form.apply(lambda x: re.split(\",| \", x)).values"
   ]
  },
  {
   "cell_type": "code",
   "execution_count": 249,
   "metadata": {},
   "outputs": [
    {
     "name": "stdout",
     "output_type": "stream",
     "text": [
      "11\n"
     ]
    }
   ],
   "source": [
    "max_len = 0\n",
    "for elem in a:\n",
    "    max_len = max(max_len, len(elem))\n",
    "print(max_len)"
   ]
  },
  {
   "cell_type": "code",
   "execution_count": 5,
   "metadata": {},
   "outputs": [],
   "source": [
    "SOS_token = tok2id[start_token]\n",
    "EOS_token = tok2id[eos]"
   ]
  },
  {
   "cell_type": "code",
   "execution_count": 6,
   "metadata": {},
   "outputs": [],
   "source": [
    "def to_matrix(words, max_len=None, pad=tok2id[eos], dtype=np.int64):\n",
    "    \"\"\"Casts a list of words into rnn-digestable matrix\"\"\"\n",
    "    \n",
    "    max_len = max_len or max(map(len, words))\n",
    "    words_ix = np.zeros([len(words), max_len], dtype) + pad\n",
    "\n",
    "    for i in range(len(words)):\n",
    "        word_ix = list(map(tok2id.get, words[i]))\n",
    "        words_ix[i, :len(word_ix)] = word_ix\n",
    "\n",
    "    return words_ix"
   ]
  },
  {
   "cell_type": "code",
   "execution_count": 7,
   "metadata": {},
   "outputs": [
    {
     "name": "stdout",
     "output_type": "stream",
     "text": [
      "_ежа#\n",
      "_ежу#\n",
      "_ежа#\n",
      "_ежом#\n",
      "_еже#\n",
      "_ежи#\n",
      "_ежей#\n",
      "_ежам#\n",
      "_ежей#\n",
      "_ежами#\n",
      "[[26  9  4 20 40 40 40]\n",
      " [26  9  4 24 40 40 40]\n",
      " [26  9  4 20 40 40 40]\n",
      " [26  9  4 33 37 40 40]\n",
      " [26  9  4  9 40 40 40]\n",
      " [26  9  4  7 40 40 40]\n",
      " [26  9  4  9 30 40 40]\n",
      " [26  9  4 20 37 40 40]\n",
      " [26  9  4  9 30 40 40]\n",
      " [26  9  4 20 37  7 40]]\n"
     ]
    }
   ],
   "source": [
    "print('\\n'.join(data_pairs.word_form[:10]))\n",
    "print(to_matrix(data_pairs.word_form[:10]))"
   ]
  },
  {
   "cell_type": "code",
   "execution_count": 262,
   "metadata": {},
   "outputs": [],
   "source": []
  },
  {
   "cell_type": "code",
   "execution_count": 263,
   "metadata": {},
   "outputs": [],
   "source": [
    "tok2id_f[eos] = 100\n",
    "\n",
    "def to_matrix_f(words, max_len=None, pad=tok2id_f[eos], dtype=np.int64):\n",
    "    \"\"\"Casts a list of words into rnn-digestable matrix\"\"\"\n",
    "    \n",
    "    max_len = max_len or max(map(len, words))\n",
    "    words_ix = np.zeros([11, max_len], dtype) + pad\n",
    "\n",
    "    for i in range(len(words)):\n",
    "        word_ix = list(map(tok2id_f.get, words[i]))\n",
    "        words_ix[i, :len(word_ix)] = word_ix\n",
    "\n",
    "    return words_ix"
   ]
  },
  {
   "cell_type": "code",
   "execution_count": 177,
   "metadata": {},
   "outputs": [
    {
     "data": {
      "text/plain": [
       "<function __main__.to_matrix_f>"
      ]
     },
     "execution_count": 177,
     "metadata": {},
     "output_type": "execute_result"
    }
   ],
   "source": [
    "to_matrix_f"
   ]
  },
  {
   "cell_type": "code",
   "execution_count": 178,
   "metadata": {},
   "outputs": [],
   "source": [
    "# Creating training and validation sets using an 80-20 split\n",
    "\n",
    "input_train, input_test, target_train, target_test = train_test_split(data_pairs.drop(\"word_form\", axis=1), data_pairs.word_form.values, test_size=0.2)"
   ]
  },
  {
   "cell_type": "code",
   "execution_count": 179,
   "metadata": {},
   "outputs": [],
   "source": [
    "class pairs_Dataset(Dataset):\n",
    "    def __init__(self, data, data_form):\n",
    "        self.data = data\n",
    "        self.target = data_form\n",
    "    def __len__(self):\n",
    "        'Denotes the total number of samples'\n",
    "        return len(self.data)\n",
    "\n",
    "    def __getitem__(self, index):\n",
    "        'Generates one sample of data'\n",
    "        # Select sample\n",
    "        return self.data.word_norm.values[index], re.split(\",| \", self.data.morph_features_form.values[index]), self.target[index]"
   ]
  },
  {
   "cell_type": "code",
   "execution_count": 180,
   "metadata": {},
   "outputs": [],
   "source": [
    "BATCH_SIZE = 22\n",
    "\n",
    "train_data = pairs_Dataset(input_train, target_train)\n",
    "\n",
    "dataset = DataLoader(train_data, batch_size=BATCH_SIZE, drop_last=True, shuffle=True)"
   ]
  },
  {
   "cell_type": "code",
   "execution_count": 264,
   "metadata": {},
   "outputs": [
    {
     "name": "stdout",
     "output_type": "stream",
     "text": [
      "[('_шпарящийся#', '_примазывавшийся#', '_буферизовался#', '_подкапливаемый#', '_копалов#', '_запихал#', '_калининградгоргаз#', '_надстругивающийся#', '_разляпываюсь#', '_подкапанный#', '_оковывающийся#', '_юниор#', '_развенчиваемый#', '_изожжённый#', '_малогазопроницаемый#', '_упластывающийся#', '_закуролесивший#', '_обкаливший#', '_энергоэффективный#', '_сострогавшийся#', '_абдеррезакович#', '_акобович#'), [('PRTF', 'PRTF', 'VERB', 'PRTF', 'ADJS', 'VERB', 'NOUN', 'PRTF', 'VERB', 'PRTF', 'PRTF', 'NOUN', 'PRTF', 'PRTF', 'ADJF', 'PRTF', 'PRTF', 'PRTF', 'ADJF', 'PRTF', 'NOUN', 'NOUN'), ('impf', 'impf', 'perf', 'impf', 'Qual', 'perf', 'inan', 'impf', 'impf', 'perf', 'impf', 'anim', 'impf', 'perf', 'inan', 'impf', 'perf', 'perf', 'anim', 'perf', 'anim', 'anim'), ('intr', 'intr', 'intr', 'tran', 'plur', 'tran', 'masc', 'intr', 'intr', 'tran', 'intr', 'masc', 'tran', 'tran', 'masc', 'intr', 'intr', 'tran', 'plur', 'intr', 'masc', 'masc')], ('_шпарящихся#', '_примазывавшимся#', '_буферизуюсь#', '_подкапливаемом#', '_копаловы#', '_запихала#', '_калининградгоргазам#', '_надстругивающийся#', '_разляпываются#', '_подкапанный#', '_оковывающуюся#', '_юниора#', '_развенчиваемой#', '_изожжённым#', '_малогазопроницаемый#', '_упластывающейся#', '_закуролесивший#', '_обкалившей#', '_энергоэффективных#', '_сострогавшимся#', '_абдеррезаковичами#', '_акобовича#')]\n",
      "[('PRTF', 'PRTF', 'VERB', 'PRTF', 'ADJS', 'VERB', 'NOUN', 'PRTF', 'VERB', 'PRTF', 'PRTF', 'NOUN', 'PRTF', 'PRTF', 'ADJF', 'PRTF', 'PRTF', 'PRTF', 'ADJF', 'PRTF', 'NOUN', 'NOUN'), ('impf', 'impf', 'perf', 'impf', 'Qual', 'perf', 'inan', 'impf', 'impf', 'perf', 'impf', 'anim', 'impf', 'perf', 'inan', 'impf', 'perf', 'perf', 'anim', 'perf', 'anim', 'anim'), ('intr', 'intr', 'intr', 'tran', 'plur', 'tran', 'masc', 'intr', 'intr', 'tran', 'intr', 'masc', 'tran', 'tran', 'masc', 'intr', 'intr', 'tran', 'plur', 'intr', 'masc', 'masc')]\n",
      "[[ 98  98  37  98  26  37  12  98  37  98  98  12  98  98  25  98  98  98\n",
      "   25  98  12  12]\n",
      " [  9   9  87   9  63  87  99   9   9  87   9  39   9  87  99   9  87  87\n",
      "   39  87  39  39]\n",
      " [ 13  13  13  75  30  75  49  13  13  75  13  49  75  75  49  13  13  75\n",
      "   30  13  49  49]\n",
      " [100 100 100 100 100 100 100 100 100 100 100 100 100 100 100 100 100 100\n",
      "  100 100 100 100]\n",
      " [100 100 100 100 100 100 100 100 100 100 100 100 100 100 100 100 100 100\n",
      "  100 100 100 100]\n",
      " [100 100 100 100 100 100 100 100 100 100 100 100 100 100 100 100 100 100\n",
      "  100 100 100 100]\n",
      " [100 100 100 100 100 100 100 100 100 100 100 100 100 100 100 100 100 100\n",
      "  100 100 100 100]\n",
      " [100 100 100 100 100 100 100 100 100 100 100 100 100 100 100 100 100 100\n",
      "  100 100 100 100]\n",
      " [100 100 100 100 100 100 100 100 100 100 100 100 100 100 100 100 100 100\n",
      "  100 100 100 100]\n",
      " [100 100 100 100 100 100 100 100 100 100 100 100 100 100 100 100 100 100\n",
      "  100 100 100 100]\n",
      " [100 100 100 100 100 100 100 100 100 100 100 100 100 100 100 100 100 100\n",
      "  100 100 100 100]]\n"
     ]
    }
   ],
   "source": [
    "for batch in dataset:\n",
    "    print(batch)\n",
    "    print(batch[1])\n",
    "    print(to_matrix_f(batch[1]))\n",
    "    break"
   ]
  },
  {
   "cell_type": "code",
   "execution_count": 265,
   "metadata": {},
   "outputs": [],
   "source": [
    "class EncoderRNN(nn.Module):\n",
    "    def __init__(self, input_size, hidden_size):\n",
    "        super(EncoderRNN, self).__init__()\n",
    "        self.hidden_size = hidden_size\n",
    "        self.batch_size = BATCH_SIZE\n",
    "        self.embedding = nn.Embedding(input_size, hidden_size)\n",
    "        self.gru = nn.GRU(hidden_size, hidden_size)\n",
    "\n",
    "    def forward(self, input, hidden):\n",
    "        embedded = self.embedding(input).view(1, self.batch_size, -1)\n",
    "        output = embedded\n",
    "        output, hidden = self.gru(output, hidden)\n",
    "        return output, hidden\n",
    "\n",
    "    def initHidden(self):\n",
    "        return torch.zeros(1, self.batch_size, self.hidden_size, device=device)"
   ]
  },
  {
   "cell_type": "code",
   "execution_count": 276,
   "metadata": {},
   "outputs": [],
   "source": [
    "class AttnDecoderRNN(nn.Module):\n",
    "    def __init__(self, hidden_size, output_size, morph_feat_size, dropout_p=0.1, max_length=MAX_LENGTH):\n",
    "        super(AttnDecoderRNN, self).__init__()\n",
    "        self.hidden_size = hidden_size\n",
    "        self.output_size = output_size\n",
    "        self.morph_size = morph_feat_size\n",
    "        self.batch_size = BATCH_SIZE\n",
    "        self.dropout_p = dropout_p\n",
    "        self.max_length = max_length\n",
    "\n",
    "        self.embedding = nn.Embedding(self.output_size, self.hidden_size)\n",
    "        self.emb_morph = nn.Embedding(self.morph_size, self.hidden_size)\n",
    "        self.attn = nn.Linear(self.hidden_size * 2, self.max_length)\n",
    "        self.attn_combine = nn.Linear(self.hidden_size * 13, self.hidden_size)\n",
    "        self.dropout = nn.Dropout(self.dropout_p)\n",
    "        self.gru = nn.GRU(self.hidden_size, self.hidden_size)\n",
    "        self.out = nn.Linear(self.hidden_size, self.output_size)\n",
    "\n",
    "    def forward(self, input, morph_feat, hidden, encoder_outputs):\n",
    "        embedded = self.embedding(input).view(1, self.batch_size, -1)\n",
    "        embedded = self.dropout(embedded)\n",
    "        \n",
    "        attn_weights = F.softmax(\n",
    "            self.attn(torch.cat((embedded[0], hidden[0]), 1)), dim=1)\n",
    "        attn_applied = torch.bmm(attn_weights.unsqueeze(1),\n",
    "                                 encoder_outputs)\n",
    "        \n",
    "        embedded_feat = self.emb_morph(morph_feat).view(1, self.batch_size, -1)\n",
    "        \n",
    "#         print(morph_feat)\n",
    "#         print(self.emb_morph(morph_feat).shape)\n",
    "#         print(embedded_feat.shape)\n",
    "        output = torch.cat((embedded[0], attn_applied.squeeze(), embedded_feat[0]), 1)\n",
    "#         print(output.shape)\n",
    "#         print(self.attn_combine(output).unsqueeze(0))\n",
    "        output = self.attn_combine(output).unsqueeze(0)\n",
    "\n",
    "        output = F.relu(output)\n",
    "        output, hidden = self.gru(output, hidden)\n",
    "\n",
    "        output = F.log_softmax(self.out(output[0]), dim=1)\n",
    "        return output, hidden, attn_weights\n",
    "\n",
    "    def initHidden(self):\n",
    "        return torch.zeros(1, self.batch_size, self.hidden_size, device=device)"
   ]
  },
  {
   "cell_type": "code",
   "execution_count": 277,
   "metadata": {},
   "outputs": [],
   "source": [
    "teacher_forcing_ratio = 0.5\n",
    "\n",
    "def train_batch(X, X_f, y, encoder, decoder, encoder_opt, decoder_opt, criterion, max_length=MAX_LENGTH):\n",
    "    encoder_hidden = encoder.initHidden()\n",
    "\n",
    "    encoder_opt.zero_grad()\n",
    "    decoder_opt.zero_grad()\n",
    "    max_length = X.shape[1]\n",
    "    encoder_outputs = torch.zeros(BATCH_SIZE, max_length, encoder.hidden_size, device=device)\n",
    "    loss = 0\n",
    "    for i in range(X.shape[1]):\n",
    "        encoder_output, encoder_hidden = encoder(\n",
    "            X[:, i], encoder_hidden)\n",
    "        encoder_outputs[:, i] = encoder_output[0]\n",
    "\n",
    "    decoder_input = torch.tensor([[int(SOS_token)] * BATCH_SIZE], device=device)\n",
    "\n",
    "    decoder_hidden = encoder_hidden\n",
    "\n",
    "    use_teacher_forcing = True if np.random.random() < teacher_forcing_ratio else False\n",
    "\n",
    "    if use_teacher_forcing:\n",
    "        # Teacher forcing: Feed the target as the next input\n",
    "        for di in range(y.shape[1]):\n",
    "            decoder_output, decoder_hidden, decoder_attention = decoder(\n",
    "                decoder_input, X_f, decoder_hidden, encoder_outputs)\n",
    "            loss += criterion(decoder_output, y[:, di])\n",
    "            decoder_input = y[:, di]  # Teacher forcing\n",
    "\n",
    "    else:\n",
    "        # Without teacher forcing: use its own predictions as the next input\n",
    "        for di in range(y.shape[1]):\n",
    "            decoder_output, decoder_hidden, decoder_attention = decoder(\n",
    "                decoder_input, X_f, decoder_hidden, encoder_outputs)\n",
    "            topv, topi = decoder_output.topk(1)\n",
    "            decoder_input = topi.squeeze().detach()  # detach from history as input\n",
    "\n",
    "            loss += criterion(decoder_output, y[:, di])\n",
    "#             if decoder_input.item() == EOS_token:\n",
    "#                 break\n",
    "\n",
    "    loss.backward()\n",
    "\n",
    "    encoder_opt.step()\n",
    "    decoder_opt.step()\n",
    "\n",
    "    return loss.item()"
   ]
  },
  {
   "cell_type": "code",
   "execution_count": 278,
   "metadata": {},
   "outputs": [],
   "source": [
    "def plot_history(train_history, title='loss'):\n",
    "    plt.figure()\n",
    "    plt.title('{}'.format(title))\n",
    "    plt.plot(train_history, label='train', zorder=1)    \n",
    "    plt.xlabel('train steps')\n",
    "    plt.grid()\n",
    "    plt.show()\n",
    "    \n",
    "    \n",
    "def train(data, encoder, decoder, n_epochs, print_every=1, plot_every=1, learning_rate=0.01):\n",
    "    start = time.time()\n",
    "    plot_losses = []\n",
    "\n",
    "    encoder_optimizer = optim.SGD(encoder.parameters(), lr=learning_rate)\n",
    "    decoder_optimizer = optim.SGD(decoder.parameters(), lr=learning_rate)\n",
    "    \n",
    "    criterion = nn.NLLLoss()\n",
    "\n",
    "    for epoch in range(n_epochs):\n",
    "        encoder.train()\n",
    "        decoder.train()\n",
    "        loss = 0\n",
    "        for batch_num, batch in zip(trange(len(data)), data):\n",
    "            max_len = max(max(map(len, batch[0])), max(map(len, batch[2])))\n",
    "            X = torch.from_numpy(to_matrix(batch[0], max_len=MAX_LENGTH)).to(device)\n",
    "            X_f = torch.from_numpy(to_matrix_f(batch[1])).to(device)\n",
    "            y = torch.from_numpy(to_matrix(batch[2], max_len=MAX_LENGTH)).to(device)\n",
    "            loss = train_batch(X, X_f, y, encoder,\n",
    "                     decoder, encoder_optimizer, decoder_optimizer, criterion)\n",
    "            plot_losses.append(loss / X.shape[0])\n",
    "        print(\"Loss - {}\".format(loss))\n",
    "        clear_output()\n",
    "        plot_history(plot_losses)"
   ]
  },
  {
   "cell_type": "code",
   "execution_count": 279,
   "metadata": {
    "collapsed": true
   },
   "outputs": [
    {
     "name": "stderr",
     "output_type": "stream",
     "text": [
      "\n",
      "\n",
      "  0%|          | 0/172832 [00:00<?, ?it/s]\u001b[A\u001b[A\n",
      "\n",
      "  0%|          | 1/172832 [00:00<36:03:31,  1.33it/s]\u001b[A\u001b[A\n",
      "\n",
      "  0%|          | 2/172832 [00:01<26:02:56,  1.84it/s]\u001b[A\u001b[A\n",
      "\n",
      "  0%|          | 3/172832 [00:01<22:44:20,  2.11it/s]\u001b[A\u001b[A\n",
      "\n",
      "  0%|          | 4/172832 [00:01<21:14:55,  2.26it/s]\u001b[A\u001b[A\n",
      "\n",
      "  0%|          | 5/172832 [00:02<20:59:17,  2.29it/s]\u001b[A\u001b[A\n",
      "\n",
      "  0%|          | 6/172832 [00:02<20:01:26,  2.40it/s]\u001b[A\u001b[A\n",
      "\n",
      "  0%|          | 7/172832 [00:02<19:27:01,  2.47it/s]\u001b[A\u001b[A\n",
      "\n",
      "  0%|          | 8/172832 [00:03<19:15:09,  2.49it/s]\u001b[A\u001b[A\n",
      "\n",
      "  0%|          | 9/172832 [00:03<18:53:54,  2.54it/s]\u001b[A\u001b[A\n",
      "\n",
      "  0%|          | 10/172832 [00:03<18:37:12,  2.58it/s]\u001b[A\u001b[A\n",
      "\n",
      "  0%|          | 11/172832 [00:04<18:22:44,  2.61it/s]\u001b[A\u001b[A\n",
      "\n",
      "  0%|          | 12/172832 [00:04<18:11:53,  2.64it/s]\u001b[A\u001b[A\n",
      "\n",
      "  0%|          | 13/172832 [00:04<18:05:00,  2.65it/s]\u001b[A\u001b[A\n",
      "\n",
      "  0%|          | 14/172832 [00:05<17:56:26,  2.68it/s]\u001b[A\u001b[A"
     ]
    },
    {
     "ename": "KeyboardInterrupt",
     "evalue": "",
     "output_type": "error",
     "traceback": [
      "\u001b[0;31m---------------------------------------------------------------------------\u001b[0m",
      "\u001b[0;31mKeyboardInterrupt\u001b[0m                         Traceback (most recent call last)",
      "\u001b[0;32m<ipython-input-279-4e49f750e3a2>\u001b[0m in \u001b[0;36m<module>\u001b[0;34m()\u001b[0m\n\u001b[1;32m      3\u001b[0m \u001b[0mattn_decoder1\u001b[0m \u001b[0;34m=\u001b[0m \u001b[0mAttnDecoderRNN\u001b[0m\u001b[0;34m(\u001b[0m\u001b[0mhidden_size\u001b[0m\u001b[0;34m,\u001b[0m \u001b[0mtokens\u001b[0m\u001b[0;34m.\u001b[0m\u001b[0mshape\u001b[0m\u001b[0;34m[\u001b[0m\u001b[0;36m0\u001b[0m\u001b[0;34m]\u001b[0m\u001b[0;34m,\u001b[0m \u001b[0mtokens_f\u001b[0m\u001b[0;34m.\u001b[0m\u001b[0mshape\u001b[0m\u001b[0;34m[\u001b[0m\u001b[0;36m0\u001b[0m\u001b[0;34m]\u001b[0m \u001b[0;34m+\u001b[0m \u001b[0;36m1\u001b[0m\u001b[0;34m,\u001b[0m \u001b[0mdropout_p\u001b[0m\u001b[0;34m=\u001b[0m\u001b[0;36m0.1\u001b[0m\u001b[0;34m)\u001b[0m\u001b[0;34m.\u001b[0m\u001b[0mto\u001b[0m\u001b[0;34m(\u001b[0m\u001b[0mdevice\u001b[0m\u001b[0;34m)\u001b[0m\u001b[0;34m\u001b[0m\u001b[0;34m\u001b[0m\u001b[0m\n\u001b[1;32m      4\u001b[0m \u001b[0;34m\u001b[0m\u001b[0m\n\u001b[0;32m----> 5\u001b[0;31m \u001b[0mtrain\u001b[0m\u001b[0;34m(\u001b[0m\u001b[0mdataset\u001b[0m\u001b[0;34m,\u001b[0m \u001b[0mencoder1\u001b[0m\u001b[0;34m,\u001b[0m \u001b[0mattn_decoder1\u001b[0m\u001b[0;34m,\u001b[0m \u001b[0;36m1\u001b[0m\u001b[0;34m)\u001b[0m\u001b[0;34m\u001b[0m\u001b[0;34m\u001b[0m\u001b[0m\n\u001b[0m",
      "\u001b[0;32m<ipython-input-278-375fad6a13de>\u001b[0m in \u001b[0;36mtrain\u001b[0;34m(data, encoder, decoder, n_epochs, print_every, plot_every, learning_rate)\u001b[0m\n\u001b[1;32m     27\u001b[0m             \u001b[0my\u001b[0m \u001b[0;34m=\u001b[0m \u001b[0mtorch\u001b[0m\u001b[0;34m.\u001b[0m\u001b[0mfrom_numpy\u001b[0m\u001b[0;34m(\u001b[0m\u001b[0mto_matrix\u001b[0m\u001b[0;34m(\u001b[0m\u001b[0mbatch\u001b[0m\u001b[0;34m[\u001b[0m\u001b[0;36m2\u001b[0m\u001b[0;34m]\u001b[0m\u001b[0;34m,\u001b[0m \u001b[0mmax_len\u001b[0m\u001b[0;34m=\u001b[0m\u001b[0mMAX_LENGTH\u001b[0m\u001b[0;34m)\u001b[0m\u001b[0;34m)\u001b[0m\u001b[0;34m.\u001b[0m\u001b[0mto\u001b[0m\u001b[0;34m(\u001b[0m\u001b[0mdevice\u001b[0m\u001b[0;34m)\u001b[0m\u001b[0;34m\u001b[0m\u001b[0;34m\u001b[0m\u001b[0m\n\u001b[1;32m     28\u001b[0m             loss = train_batch(X, X_f, y, encoder,\n\u001b[0;32m---> 29\u001b[0;31m                      decoder, encoder_optimizer, decoder_optimizer, criterion)\n\u001b[0m\u001b[1;32m     30\u001b[0m             \u001b[0mplot_losses\u001b[0m\u001b[0;34m.\u001b[0m\u001b[0mappend\u001b[0m\u001b[0;34m(\u001b[0m\u001b[0mloss\u001b[0m \u001b[0;34m/\u001b[0m \u001b[0mX\u001b[0m\u001b[0;34m.\u001b[0m\u001b[0mshape\u001b[0m\u001b[0;34m[\u001b[0m\u001b[0;36m0\u001b[0m\u001b[0;34m]\u001b[0m\u001b[0;34m)\u001b[0m\u001b[0;34m\u001b[0m\u001b[0;34m\u001b[0m\u001b[0m\n\u001b[1;32m     31\u001b[0m             \u001b[0;32mif\u001b[0m \u001b[0mbatch_num\u001b[0m \u001b[0;34m==\u001b[0m \u001b[0;36m50\u001b[0m\u001b[0;34m:\u001b[0m\u001b[0;34m\u001b[0m\u001b[0;34m\u001b[0m\u001b[0m\n",
      "\u001b[0;32m<ipython-input-277-0fc16522be0a>\u001b[0m in \u001b[0;36mtrain_batch\u001b[0;34m(X, X_f, y, encoder, decoder, encoder_opt, decoder_opt, criterion, max_length)\u001b[0m\n\u001b[1;32m     32\u001b[0m         \u001b[0;32mfor\u001b[0m \u001b[0mdi\u001b[0m \u001b[0;32min\u001b[0m \u001b[0mrange\u001b[0m\u001b[0;34m(\u001b[0m\u001b[0my\u001b[0m\u001b[0;34m.\u001b[0m\u001b[0mshape\u001b[0m\u001b[0;34m[\u001b[0m\u001b[0;36m1\u001b[0m\u001b[0;34m]\u001b[0m\u001b[0;34m)\u001b[0m\u001b[0;34m:\u001b[0m\u001b[0;34m\u001b[0m\u001b[0;34m\u001b[0m\u001b[0m\n\u001b[1;32m     33\u001b[0m             decoder_output, decoder_hidden, decoder_attention = decoder(\n\u001b[0;32m---> 34\u001b[0;31m                 decoder_input, X_f, decoder_hidden, encoder_outputs)\n\u001b[0m\u001b[1;32m     35\u001b[0m             \u001b[0mtopv\u001b[0m\u001b[0;34m,\u001b[0m \u001b[0mtopi\u001b[0m \u001b[0;34m=\u001b[0m \u001b[0mdecoder_output\u001b[0m\u001b[0;34m.\u001b[0m\u001b[0mtopk\u001b[0m\u001b[0;34m(\u001b[0m\u001b[0;36m1\u001b[0m\u001b[0;34m)\u001b[0m\u001b[0;34m\u001b[0m\u001b[0;34m\u001b[0m\u001b[0m\n\u001b[1;32m     36\u001b[0m             \u001b[0mdecoder_input\u001b[0m \u001b[0;34m=\u001b[0m \u001b[0mtopi\u001b[0m\u001b[0;34m.\u001b[0m\u001b[0msqueeze\u001b[0m\u001b[0;34m(\u001b[0m\u001b[0;34m)\u001b[0m\u001b[0;34m.\u001b[0m\u001b[0mdetach\u001b[0m\u001b[0;34m(\u001b[0m\u001b[0;34m)\u001b[0m  \u001b[0;31m# detach from history as input\u001b[0m\u001b[0;34m\u001b[0m\u001b[0;34m\u001b[0m\u001b[0m\n",
      "\u001b[0;32m/Users/viktor/anaconda3/lib/python3.6/site-packages/torch/nn/modules/module.py\u001b[0m in \u001b[0;36m__call__\u001b[0;34m(self, *input, **kwargs)\u001b[0m\n\u001b[1;32m    475\u001b[0m             \u001b[0mresult\u001b[0m \u001b[0;34m=\u001b[0m \u001b[0mself\u001b[0m\u001b[0;34m.\u001b[0m\u001b[0m_slow_forward\u001b[0m\u001b[0;34m(\u001b[0m\u001b[0;34m*\u001b[0m\u001b[0minput\u001b[0m\u001b[0;34m,\u001b[0m \u001b[0;34m**\u001b[0m\u001b[0mkwargs\u001b[0m\u001b[0;34m)\u001b[0m\u001b[0;34m\u001b[0m\u001b[0;34m\u001b[0m\u001b[0m\n\u001b[1;32m    476\u001b[0m         \u001b[0;32melse\u001b[0m\u001b[0;34m:\u001b[0m\u001b[0;34m\u001b[0m\u001b[0;34m\u001b[0m\u001b[0m\n\u001b[0;32m--> 477\u001b[0;31m             \u001b[0mresult\u001b[0m \u001b[0;34m=\u001b[0m \u001b[0mself\u001b[0m\u001b[0;34m.\u001b[0m\u001b[0mforward\u001b[0m\u001b[0;34m(\u001b[0m\u001b[0;34m*\u001b[0m\u001b[0minput\u001b[0m\u001b[0;34m,\u001b[0m \u001b[0;34m**\u001b[0m\u001b[0mkwargs\u001b[0m\u001b[0;34m)\u001b[0m\u001b[0;34m\u001b[0m\u001b[0;34m\u001b[0m\u001b[0m\n\u001b[0m\u001b[1;32m    478\u001b[0m         \u001b[0;32mfor\u001b[0m \u001b[0mhook\u001b[0m \u001b[0;32min\u001b[0m \u001b[0mself\u001b[0m\u001b[0;34m.\u001b[0m\u001b[0m_forward_hooks\u001b[0m\u001b[0;34m.\u001b[0m\u001b[0mvalues\u001b[0m\u001b[0;34m(\u001b[0m\u001b[0;34m)\u001b[0m\u001b[0;34m:\u001b[0m\u001b[0;34m\u001b[0m\u001b[0;34m\u001b[0m\u001b[0m\n\u001b[1;32m    479\u001b[0m             \u001b[0mhook_result\u001b[0m \u001b[0;34m=\u001b[0m \u001b[0mhook\u001b[0m\u001b[0;34m(\u001b[0m\u001b[0mself\u001b[0m\u001b[0;34m,\u001b[0m \u001b[0minput\u001b[0m\u001b[0;34m,\u001b[0m \u001b[0mresult\u001b[0m\u001b[0;34m)\u001b[0m\u001b[0;34m\u001b[0m\u001b[0;34m\u001b[0m\u001b[0m\n",
      "\u001b[0;32m<ipython-input-276-50a265fa8e50>\u001b[0m in \u001b[0;36mforward\u001b[0;34m(self, input, morph_feat, hidden, encoder_outputs)\u001b[0m\n\u001b[1;32m     24\u001b[0m             self.attn(torch.cat((embedded[0], hidden[0]), 1)), dim=1)\n\u001b[1;32m     25\u001b[0m         attn_applied = torch.bmm(attn_weights.unsqueeze(1),\n\u001b[0;32m---> 26\u001b[0;31m                                  encoder_outputs)\n\u001b[0m\u001b[1;32m     27\u001b[0m \u001b[0;34m\u001b[0m\u001b[0m\n\u001b[1;32m     28\u001b[0m         \u001b[0membedded_feat\u001b[0m \u001b[0;34m=\u001b[0m \u001b[0mself\u001b[0m\u001b[0;34m.\u001b[0m\u001b[0memb_morph\u001b[0m\u001b[0;34m(\u001b[0m\u001b[0mmorph_feat\u001b[0m\u001b[0;34m)\u001b[0m\u001b[0;34m.\u001b[0m\u001b[0mview\u001b[0m\u001b[0;34m(\u001b[0m\u001b[0;36m1\u001b[0m\u001b[0;34m,\u001b[0m \u001b[0mself\u001b[0m\u001b[0;34m.\u001b[0m\u001b[0mbatch_size\u001b[0m\u001b[0;34m,\u001b[0m \u001b[0;34m-\u001b[0m\u001b[0;36m1\u001b[0m\u001b[0;34m)\u001b[0m\u001b[0;34m\u001b[0m\u001b[0;34m\u001b[0m\u001b[0m\n",
      "\u001b[0;31mKeyboardInterrupt\u001b[0m: "
     ]
    }
   ],
   "source": [
    "hidden_size = 256\n",
    "encoder1 = EncoderRNN(tokens.shape[0], hidden_size).to(device)\n",
    "attn_decoder1 = AttnDecoderRNN(hidden_size, tokens.shape[0], tokens_f.shape[0] + 1, dropout_p=0.1).to(device)\n",
    "\n",
    "train(dataset, encoder1, attn_decoder1, 1)"
   ]
  },
  {
   "cell_type": "code",
   "execution_count": null,
   "metadata": {},
   "outputs": [],
   "source": []
  }
 ],
 "metadata": {
  "kernelspec": {
   "display_name": "Python 3",
   "language": "python",
   "name": "python3"
  },
  "language_info": {
   "codemirror_mode": {
    "name": "ipython",
    "version": 3
   },
   "file_extension": ".py",
   "mimetype": "text/x-python",
   "name": "python",
   "nbconvert_exporter": "python",
   "pygments_lexer": "ipython3",
   "version": "3.6.7"
  }
 },
 "nbformat": 4,
 "nbformat_minor": 2
}
